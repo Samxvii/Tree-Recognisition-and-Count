{
  "nbformat": 4,
  "nbformat_minor": 0,
  "metadata": {
    "colab": {
      "provenance": [],
      "gpuType": "T4",
      "mount_file_id": "1OQICKk-GsoCs4kyk0xglX9piBA0lR9u8",
      "authorship_tag": "ABX9TyMsoDDgIFNZBBQaeiRyz1T5",
      "include_colab_link": true
    },
    "kernelspec": {
      "name": "python3",
      "display_name": "Python 3"
    },
    "language_info": {
      "name": "python"
    },
    "accelerator": "GPU",
    "widgets": {
      "application/vnd.jupyter.widget-state+json": {
        "96753a6f0fbb41e9a60c32674076d11c": {
          "model_module": "@jupyter-widgets/controls",
          "model_name": "HBoxModel",
          "model_module_version": "1.5.0",
          "state": {
            "_dom_classes": [],
            "_model_module": "@jupyter-widgets/controls",
            "_model_module_version": "1.5.0",
            "_model_name": "HBoxModel",
            "_view_count": null,
            "_view_module": "@jupyter-widgets/controls",
            "_view_module_version": "1.5.0",
            "_view_name": "HBoxView",
            "box_style": "",
            "children": [
              "IPY_MODEL_5ba84beb90314f5c8f432f39554b2afb",
              "IPY_MODEL_62610185755844a7b5422e7abc1ef740",
              "IPY_MODEL_98cd013907bf46eabb8b13de31c9b8e8"
            ],
            "layout": "IPY_MODEL_14c13804090542d9a81a72cf1310015d"
          }
        },
        "5ba84beb90314f5c8f432f39554b2afb": {
          "model_module": "@jupyter-widgets/controls",
          "model_name": "HTMLModel",
          "model_module_version": "1.5.0",
          "state": {
            "_dom_classes": [],
            "_model_module": "@jupyter-widgets/controls",
            "_model_module_version": "1.5.0",
            "_model_name": "HTMLModel",
            "_view_count": null,
            "_view_module": "@jupyter-widgets/controls",
            "_view_module_version": "1.5.0",
            "_view_name": "HTMLView",
            "description": "",
            "description_tooltip": null,
            "layout": "IPY_MODEL_30c3373cc35c42be802ffbdfb5b5b99a",
            "placeholder": "​",
            "style": "IPY_MODEL_7dd8bfcc4d354bdfa7964ca70e025a9e",
            "value": "Predicting DataLoader 0: 100%"
          }
        },
        "62610185755844a7b5422e7abc1ef740": {
          "model_module": "@jupyter-widgets/controls",
          "model_name": "FloatProgressModel",
          "model_module_version": "1.5.0",
          "state": {
            "_dom_classes": [],
            "_model_module": "@jupyter-widgets/controls",
            "_model_module_version": "1.5.0",
            "_model_name": "FloatProgressModel",
            "_view_count": null,
            "_view_module": "@jupyter-widgets/controls",
            "_view_module_version": "1.5.0",
            "_view_name": "ProgressView",
            "bar_style": "success",
            "description": "",
            "description_tooltip": null,
            "layout": "IPY_MODEL_306b53ba92a34bd4bd09aad8be0e8b08",
            "max": 5148,
            "min": 0,
            "orientation": "horizontal",
            "style": "IPY_MODEL_cf421269653544dabbee6305b24d7316",
            "value": 5148
          }
        },
        "98cd013907bf46eabb8b13de31c9b8e8": {
          "model_module": "@jupyter-widgets/controls",
          "model_name": "HTMLModel",
          "model_module_version": "1.5.0",
          "state": {
            "_dom_classes": [],
            "_model_module": "@jupyter-widgets/controls",
            "_model_module_version": "1.5.0",
            "_model_name": "HTMLModel",
            "_view_count": null,
            "_view_module": "@jupyter-widgets/controls",
            "_view_module_version": "1.5.0",
            "_view_name": "HTMLView",
            "description": "",
            "description_tooltip": null,
            "layout": "IPY_MODEL_5f42564a0e1b413bb7743a48b8702aa6",
            "placeholder": "​",
            "style": "IPY_MODEL_c04ee6f9120a4eaa8d861de7c1920da9",
            "value": " 5148/5148 [06:53&lt;00:00, 12.45it/s]"
          }
        },
        "14c13804090542d9a81a72cf1310015d": {
          "model_module": "@jupyter-widgets/base",
          "model_name": "LayoutModel",
          "model_module_version": "1.2.0",
          "state": {
            "_model_module": "@jupyter-widgets/base",
            "_model_module_version": "1.2.0",
            "_model_name": "LayoutModel",
            "_view_count": null,
            "_view_module": "@jupyter-widgets/base",
            "_view_module_version": "1.2.0",
            "_view_name": "LayoutView",
            "align_content": null,
            "align_items": null,
            "align_self": null,
            "border": null,
            "bottom": null,
            "display": "inline-flex",
            "flex": null,
            "flex_flow": "row wrap",
            "grid_area": null,
            "grid_auto_columns": null,
            "grid_auto_flow": null,
            "grid_auto_rows": null,
            "grid_column": null,
            "grid_gap": null,
            "grid_row": null,
            "grid_template_areas": null,
            "grid_template_columns": null,
            "grid_template_rows": null,
            "height": null,
            "justify_content": null,
            "justify_items": null,
            "left": null,
            "margin": null,
            "max_height": null,
            "max_width": null,
            "min_height": null,
            "min_width": null,
            "object_fit": null,
            "object_position": null,
            "order": null,
            "overflow": null,
            "overflow_x": null,
            "overflow_y": null,
            "padding": null,
            "right": null,
            "top": null,
            "visibility": null,
            "width": "100%"
          }
        },
        "30c3373cc35c42be802ffbdfb5b5b99a": {
          "model_module": "@jupyter-widgets/base",
          "model_name": "LayoutModel",
          "model_module_version": "1.2.0",
          "state": {
            "_model_module": "@jupyter-widgets/base",
            "_model_module_version": "1.2.0",
            "_model_name": "LayoutModel",
            "_view_count": null,
            "_view_module": "@jupyter-widgets/base",
            "_view_module_version": "1.2.0",
            "_view_name": "LayoutView",
            "align_content": null,
            "align_items": null,
            "align_self": null,
            "border": null,
            "bottom": null,
            "display": null,
            "flex": null,
            "flex_flow": null,
            "grid_area": null,
            "grid_auto_columns": null,
            "grid_auto_flow": null,
            "grid_auto_rows": null,
            "grid_column": null,
            "grid_gap": null,
            "grid_row": null,
            "grid_template_areas": null,
            "grid_template_columns": null,
            "grid_template_rows": null,
            "height": null,
            "justify_content": null,
            "justify_items": null,
            "left": null,
            "margin": null,
            "max_height": null,
            "max_width": null,
            "min_height": null,
            "min_width": null,
            "object_fit": null,
            "object_position": null,
            "order": null,
            "overflow": null,
            "overflow_x": null,
            "overflow_y": null,
            "padding": null,
            "right": null,
            "top": null,
            "visibility": null,
            "width": null
          }
        },
        "7dd8bfcc4d354bdfa7964ca70e025a9e": {
          "model_module": "@jupyter-widgets/controls",
          "model_name": "DescriptionStyleModel",
          "model_module_version": "1.5.0",
          "state": {
            "_model_module": "@jupyter-widgets/controls",
            "_model_module_version": "1.5.0",
            "_model_name": "DescriptionStyleModel",
            "_view_count": null,
            "_view_module": "@jupyter-widgets/base",
            "_view_module_version": "1.2.0",
            "_view_name": "StyleView",
            "description_width": ""
          }
        },
        "306b53ba92a34bd4bd09aad8be0e8b08": {
          "model_module": "@jupyter-widgets/base",
          "model_name": "LayoutModel",
          "model_module_version": "1.2.0",
          "state": {
            "_model_module": "@jupyter-widgets/base",
            "_model_module_version": "1.2.0",
            "_model_name": "LayoutModel",
            "_view_count": null,
            "_view_module": "@jupyter-widgets/base",
            "_view_module_version": "1.2.0",
            "_view_name": "LayoutView",
            "align_content": null,
            "align_items": null,
            "align_self": null,
            "border": null,
            "bottom": null,
            "display": null,
            "flex": "2",
            "flex_flow": null,
            "grid_area": null,
            "grid_auto_columns": null,
            "grid_auto_flow": null,
            "grid_auto_rows": null,
            "grid_column": null,
            "grid_gap": null,
            "grid_row": null,
            "grid_template_areas": null,
            "grid_template_columns": null,
            "grid_template_rows": null,
            "height": null,
            "justify_content": null,
            "justify_items": null,
            "left": null,
            "margin": null,
            "max_height": null,
            "max_width": null,
            "min_height": null,
            "min_width": null,
            "object_fit": null,
            "object_position": null,
            "order": null,
            "overflow": null,
            "overflow_x": null,
            "overflow_y": null,
            "padding": null,
            "right": null,
            "top": null,
            "visibility": null,
            "width": null
          }
        },
        "cf421269653544dabbee6305b24d7316": {
          "model_module": "@jupyter-widgets/controls",
          "model_name": "ProgressStyleModel",
          "model_module_version": "1.5.0",
          "state": {
            "_model_module": "@jupyter-widgets/controls",
            "_model_module_version": "1.5.0",
            "_model_name": "ProgressStyleModel",
            "_view_count": null,
            "_view_module": "@jupyter-widgets/base",
            "_view_module_version": "1.2.0",
            "_view_name": "StyleView",
            "bar_color": null,
            "description_width": ""
          }
        },
        "5f42564a0e1b413bb7743a48b8702aa6": {
          "model_module": "@jupyter-widgets/base",
          "model_name": "LayoutModel",
          "model_module_version": "1.2.0",
          "state": {
            "_model_module": "@jupyter-widgets/base",
            "_model_module_version": "1.2.0",
            "_model_name": "LayoutModel",
            "_view_count": null,
            "_view_module": "@jupyter-widgets/base",
            "_view_module_version": "1.2.0",
            "_view_name": "LayoutView",
            "align_content": null,
            "align_items": null,
            "align_self": null,
            "border": null,
            "bottom": null,
            "display": null,
            "flex": null,
            "flex_flow": null,
            "grid_area": null,
            "grid_auto_columns": null,
            "grid_auto_flow": null,
            "grid_auto_rows": null,
            "grid_column": null,
            "grid_gap": null,
            "grid_row": null,
            "grid_template_areas": null,
            "grid_template_columns": null,
            "grid_template_rows": null,
            "height": null,
            "justify_content": null,
            "justify_items": null,
            "left": null,
            "margin": null,
            "max_height": null,
            "max_width": null,
            "min_height": null,
            "min_width": null,
            "object_fit": null,
            "object_position": null,
            "order": null,
            "overflow": null,
            "overflow_x": null,
            "overflow_y": null,
            "padding": null,
            "right": null,
            "top": null,
            "visibility": null,
            "width": null
          }
        },
        "c04ee6f9120a4eaa8d861de7c1920da9": {
          "model_module": "@jupyter-widgets/controls",
          "model_name": "DescriptionStyleModel",
          "model_module_version": "1.5.0",
          "state": {
            "_model_module": "@jupyter-widgets/controls",
            "_model_module_version": "1.5.0",
            "_model_name": "DescriptionStyleModel",
            "_view_count": null,
            "_view_module": "@jupyter-widgets/base",
            "_view_module_version": "1.2.0",
            "_view_name": "StyleView",
            "description_width": ""
          }
        }
      }
    }
  },
  "cells": [
    {
      "cell_type": "markdown",
      "metadata": {
        "id": "view-in-github",
        "colab_type": "text"
      },
      "source": [
        "<a href=\"https://colab.research.google.com/github/sanskarmalviya7/Tree-Recognisition-and-Count/blob/main/Tree_recognition_for_Drone_Images.ipynb\" target=\"_parent\"><img src=\"https://colab.research.google.com/assets/colab-badge.svg\" alt=\"Open In Colab\"/></a>"
      ]
    },
    {
      "cell_type": "code",
      "execution_count": null,
      "metadata": {
        "id": "slJfk4NnGbQD"
      },
      "outputs": [],
      "source": [
        "!pip -q install DeepForest"
      ]
    },
    {
      "cell_type": "code",
      "source": [
        "from deepforest import main\n",
        "from deepforest import get_data\n",
        "from google.colab.patches import cv2_imshow\n",
        "model = main.deepforest()\n",
        "model.use_release()"
      ],
      "metadata": {
        "colab": {
          "base_uri": "https://localhost:8080/"
        },
        "id": "9isEkS9LGb1w",
        "outputId": "8015e601-5448-40ba-c9b7-d2d42c5f179c"
      },
      "execution_count": 2,
      "outputs": [
        {
          "output_type": "stream",
          "name": "stdout",
          "text": [
            "Reading config file: /usr/local/lib/python3.10/dist-packages/deepforest/data/deepforest_config.yml\n"
          ]
        },
        {
          "output_type": "stream",
          "name": "stderr",
          "text": [
            "Downloading: \"https://download.pytorch.org/models/retinanet_resnet50_fpn_coco-eeacb38b.pth\" to /root/.cache/torch/hub/checkpoints/retinanet_resnet50_fpn_coco-eeacb38b.pth\n",
            "100%|██████████| 130M/130M [00:01<00:00, 79.2MB/s]\n"
          ]
        },
        {
          "output_type": "stream",
          "name": "stdout",
          "text": [
            "No validation file provided. Turning off validation loop\n"
          ]
        },
        {
          "output_type": "stream",
          "name": "stderr",
          "text": [
            "INFO:pytorch_lightning.utilities.rank_zero:GPU available: True (cuda), used: True\n",
            "INFO:pytorch_lightning.utilities.rank_zero:TPU available: False, using: 0 TPU cores\n",
            "INFO:pytorch_lightning.utilities.rank_zero:IPU available: False, using: 0 IPUs\n",
            "INFO:pytorch_lightning.utilities.rank_zero:HPU available: False, using: 0 HPUs\n"
          ]
        },
        {
          "output_type": "stream",
          "name": "stdout",
          "text": [
            "Downloading model from DeepForest release 1.0.0, see https://github.com/weecology/DeepForest/releases/tag/1.0.0 for details\n"
          ]
        },
        {
          "output_type": "stream",
          "name": "stderr",
          "text": [
            "NEON.pt: 129MB [00:00, 144MB/s]                           \n"
          ]
        },
        {
          "output_type": "stream",
          "name": "stdout",
          "text": [
            "Model was downloaded and saved to /usr/local/lib/python3.10/dist-packages/deepforest/data/NEON.pt\n",
            "Loading pre-built model: https://github.com/weecology/DeepForest/releases/tag/1.0.0\n"
          ]
        }
      ]
    },
    {
      "cell_type": "code",
      "source": [
        "raster_path = get_data(\"/content/drive/MyDrive/sanskar/Copy of phase1_Orthomosaic_export_MonMay01081306578090.jpg\")"
      ],
      "metadata": {
        "id": "5TTdNXBGGb_Q"
      },
      "execution_count": 3,
      "outputs": []
    },
    {
      "cell_type": "code",
      "source": [
        "predicted_raster1 = model.predict_tile(raster_path, return_plot = False, patch_size=500,patch_overlap=0.25)"
      ],
      "metadata": {
        "id": "EOJgwdcoGcFB",
        "colab": {
          "base_uri": "https://localhost:8080/",
          "height": 195,
          "referenced_widgets": [
            "96753a6f0fbb41e9a60c32674076d11c",
            "5ba84beb90314f5c8f432f39554b2afb",
            "62610185755844a7b5422e7abc1ef740",
            "98cd013907bf46eabb8b13de31c9b8e8",
            "14c13804090542d9a81a72cf1310015d",
            "30c3373cc35c42be802ffbdfb5b5b99a",
            "7dd8bfcc4d354bdfa7964ca70e025a9e",
            "306b53ba92a34bd4bd09aad8be0e8b08",
            "cf421269653544dabbee6305b24d7316",
            "5f42564a0e1b413bb7743a48b8702aa6",
            "c04ee6f9120a4eaa8d861de7c1920da9"
          ]
        },
        "outputId": "5fefcb7d-1074-497c-818f-a846dea9d50e"
      },
      "execution_count": 4,
      "outputs": [
        {
          "output_type": "stream",
          "name": "stderr",
          "text": [
            "/usr/local/lib/python3.10/dist-packages/rasterio/__init__.py:304: NotGeoreferencedWarning: Dataset has no geotransform, gcps, or rpcs. The identity matrix will be returned.\n",
            "  dataset = DatasetReader(path, driver=driver, sharing=sharing, **kwargs)\n",
            "WARNING:pytorch_lightning.loggers.tensorboard:Missing logger folder: /content/lightning_logs\n",
            "INFO:pytorch_lightning.accelerators.cuda:LOCAL_RANK: 0 - CUDA_VISIBLE_DEVICES: [0]\n",
            "/usr/lib/python3.10/multiprocessing/popen_fork.py:66: RuntimeWarning: os.fork() was called. os.fork() is incompatible with multithreaded code, and JAX is multithreaded, so this will likely lead to a deadlock.\n",
            "  self.pid = os.fork()\n"
          ]
        },
        {
          "output_type": "display_data",
          "data": {
            "text/plain": [
              "Predicting: |          | 0/? [00:00<?, ?it/s]"
            ],
            "application/vnd.jupyter.widget-view+json": {
              "version_major": 2,
              "version_minor": 0,
              "model_id": "96753a6f0fbb41e9a60c32674076d11c"
            }
          },
          "metadata": {}
        },
        {
          "output_type": "stream",
          "name": "stdout",
          "text": [
            "40024 predictions in overlapping windows, applying non-max supression\n",
            "23927 predictions kept after non-max suppression\n"
          ]
        }
      ]
    },
    {
      "cell_type": "code",
      "source": [
        "print(len(predicted_raster1))"
      ],
      "metadata": {
        "id": "JcUQHeOJGjmG",
        "colab": {
          "base_uri": "https://localhost:8080/"
        },
        "outputId": "60b8a4b5-559a-40e2-c7ad-203d11aeb3a5"
      },
      "execution_count": 5,
      "outputs": [
        {
          "output_type": "stream",
          "name": "stdout",
          "text": [
            "23927\n"
          ]
        }
      ]
    },
    {
      "cell_type": "code",
      "source": [
        "import pandas as pd\n",
        "df = pd.DataFrame(predicted_raster1)\n",
        "df.to_csv(\"object_detection_results.csv\", index=False)"
      ],
      "metadata": {
        "id": "zPuVLRY0Gjcp"
      },
      "execution_count": 6,
      "outputs": []
    },
    {
      "cell_type": "code",
      "source": [
        "import cv2\n",
        "import pandas as pd\n",
        "import numpy as np\n",
        "\n",
        "# Function to check if a color is in the green range\n",
        "def is_green(color):\n",
        "    # Define the range of green color in HSV space\n",
        "    lower_green = np.array([0, 50, 0], dtype=np.uint8)  # Lower bound of green color in HSV\n",
        "    upper_green = np.array([0, 255, 0], dtype=np.uint8)  # Upper bound of green color in HSV\n",
        "\n",
        "    # Convert color to HSV\n",
        "    hsv = cv2.cvtColor(np.uint8([[color]]), cv2.COLOR_BGR2HSV)[0][0]\n",
        "\n",
        "    # Check if color falls within the green range\n",
        "    mask = cv2.inRange(hsv, lower_green, upper_green)\n",
        "\n",
        "    # Check if any non-zero elements exist in the mask\n",
        "    return cv2.countNonZero(mask) > 0\n",
        "\n",
        "# Specify file paths with either double backslashes or raw strings\n",
        "raster_path = \"/content/drive/MyDrive/sanskar/Copy of phase1_Orthomosaic_export_MonMay01081306578090.jpg\"\n",
        "df = pd.read_csv(\"object_detection_results.csv\")\n",
        "\n",
        "# Read the image\n",
        "image = cv2.imread(raster_path)\n",
        "\n",
        "# Check if the image data is loaded correctly\n",
        "if image is None:\n",
        "    print(\"Error: Unable to load image.\")\n",
        "    exit()\n",
        "\n",
        "# Initialize counters for live and dead trees\n",
        "live_tree_count = 0\n",
        "dead_tree_count = 0\n",
        "\n",
        "# Loop through each detected object and draw bounding boxes on the image\n",
        "for index, row in df.iterrows():\n",
        "    xmin = int(row['xmin'])\n",
        "    ymin = int(row['ymin'])\n",
        "    xmax = int(row['xmax'])\n",
        "    ymax = int(row['ymax'])\n",
        "\n",
        "    # Extract region within the bounding box\n",
        "    region = image[ymin:ymax, xmin:xmax]\n",
        "\n",
        "    # Calculate the average color of the region\n",
        "    avg_color = np.mean(region, axis=(0, 1))\n",
        "\n",
        "    # Check if the average color is green\n",
        "    if is_green(avg_color):\n",
        "        live_tree_count += 1\n",
        "        color = (0, 255, 0)  # Green color for live trees\n",
        "    else:\n",
        "        dead_tree_count += 1\n",
        "        color = (0, 0, 255)  # Red color for dead trees\n",
        "\n",
        "    # Draw bounding box with the determined color\n",
        "    cv2.rectangle(image, (xmin, ymin), (xmax, ymax), color, thickness=2)\n",
        "\n",
        "# Print total live and dead tree count\n",
        "print(\"Total Trees:\", len(df))\n",
        "print(\"Total Live Trees:\", live_tree_count)\n",
        "print(\"Total Dead Trees:\", dead_tree_count)\n",
        "\n",
        "# Add text indicating the total number of trees detected, live and dead\n",
        "total_tree_text = f'TOTAL TREES: {len(df)}, Live: {live_tree_count}, Dead: {dead_tree_count}'\n",
        "cv2.putText(image, total_tree_text, (50, 500), cv2.FONT_HERSHEY_SIMPLEX, 10, (0, 0, 0), 10)\n",
        "\n",
        "# Save the annotated image\n",
        "output_image_path = \"annotated_image_with_live_dead.jpg\"\n",
        "cv2.imwrite(output_image_path, image)\n",
        "\n",
        "print(\"Annotated image with live and dead trees saved successfully.\")"
      ],
      "metadata": {
        "id": "Bm8ljXvU2gMy"
      },
      "execution_count": null,
      "outputs": []
    },
    {
      "cell_type": "code",
      "source": [
        "# @title Work well for Good TIF\n",
        "#from google.colab.patches import cv2_imshow\n",
        "from deepforest import main\n",
        "from deepforest import get_data\n",
        "import matplotlib.pyplot as plt\n",
        "\n",
        "model = main.deepforest()\n",
        "model.use_release()\n",
        "\n",
        "raster_path = get_data(\"/content/drive/MyDrive/sanskar/Copy of phase1_Orthomosaic_export_MonMay01081306578090.jpg\")\n",
        "predicted_raster = model.predict_tile(raster_path, return_plot = True, patch_size=300,patch_overlap=0.25, color=(255, 0, 0), thickness=2)\n",
        "plt.figure(figsize=(40, 40))\n",
        "plt.imshow(predicted_raster)\n",
        "plt.show()\n",
        "#image = cv2.imread(predicted_raster) #for real quality\n",
        "#cv2_imshow(image)"
      ],
      "metadata": {
        "id": "h3UxED1BGu1H",
        "cellView": "form"
      },
      "execution_count": null,
      "outputs": []
    },
    {
      "cell_type": "code",
      "source": [
        "# @title no use\n",
        "'''import cv2\n",
        "import pandas as pd\n",
        "from google.colab.patches import cv2_imshow\n",
        "raster_path = \"/content/drive/MyDrive/Stand by me/phase1_Orthomosaic_export_MonMay01081306578090.jpg\"\n",
        "# Read the object detection results from the CSV file\n",
        "df = pd.read_csv(\"object_detection_results.csv\")\n",
        "\n",
        "# Read the image\n",
        "image = cv2.imread(raster_path)\n",
        "\n",
        "# Loop through each detected object and draw bounding boxes on the image\n",
        "for index, row in df.iterrows():\n",
        "    xmin = int(row['xmin'])\n",
        "    ymin = int(row['ymin'])\n",
        "    xmax = int(row['xmax'])\n",
        "    ymax = int(row['ymax'])\n",
        "    cv2.rectangle(image, (xmin, ymin), (xmax, ymax), (0, 0, 255), thickness=2)\n",
        "\n",
        "# Add text indicating the total number of trees detected\n",
        "cv2.putText(image, 'TOTAL TREES: ' + str(len(df)), (3, 14), cv2.FONT_HERSHEY_SIMPLEX, 0.5, (255, 255, 255), 1)\n",
        "\n",
        "# Display the annotated image\n",
        "\n",
        "# Save the annotated image\n",
        "output_image_path = \"annotated_image.jpg\"\n",
        "cv2.imwrite(output_image_path, image)'''\n"
      ],
      "metadata": {
        "id": "WXf5O8m9GjZ2",
        "cellView": "form"
      },
      "execution_count": null,
      "outputs": []
    }
  ]
}